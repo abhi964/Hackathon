{
  "nbformat": 4,
  "nbformat_minor": 0,
  "metadata": {
    "colab": {
      "name": "Fourth.ipynb",
      "provenance": []
    },
    "kernelspec": {
      "name": "python3",
      "display_name": "Python 3"
    },
    "language_info": {
      "name": "python"
    },
    "widgets": {
      "application/vnd.jupyter.widget-state+json": {
        "c5dbb72214a748f7839cc4164fbb897d": {
          "model_module": "@jupyter-widgets/controls",
          "model_name": "VBoxModel",
          "model_module_version": "1.5.0",
          "state": {
            "_dom_classes": [
              "widget-interact"
            ],
            "_model_module": "@jupyter-widgets/controls",
            "_model_module_version": "1.5.0",
            "_model_name": "VBoxModel",
            "_view_count": null,
            "_view_module": "@jupyter-widgets/controls",
            "_view_module_version": "1.5.0",
            "_view_name": "VBoxView",
            "box_style": "",
            "children": [
              "IPY_MODEL_3e557c9d50104ab2b3bade065e0eb023",
              "IPY_MODEL_5a931b9b9ce84c669c31c0a0e023b324"
            ],
            "layout": "IPY_MODEL_e829dfa8ae164229a375a0c2c0a576a4"
          }
        },
        "3e557c9d50104ab2b3bade065e0eb023": {
          "model_module": "@jupyter-widgets/controls",
          "model_name": "DropdownModel",
          "model_module_version": "1.5.0",
          "state": {
            "_dom_classes": [],
            "_model_module": "@jupyter-widgets/controls",
            "_model_module_version": "1.5.0",
            "_model_name": "DropdownModel",
            "_options_labels": [
              "campaign_id",
              "sender",
              "subject_len",
              "body_len",
              "mean_paragraph_len",
              "day_of_week",
              "is_weekend",
              "times_of_day",
              "category",
              "product",
              "no_of_CTA",
              "mean_CTA_len",
              "is_image",
              "is_personalised",
              "is_quote",
              "is_timer",
              "is_emoticons",
              "is_discount",
              "is_price",
              "is_urgency",
              "target_audience",
              "click_rate"
            ],
            "_view_count": null,
            "_view_module": "@jupyter-widgets/controls",
            "_view_module_version": "1.5.0",
            "_view_name": "DropdownView",
            "description": "feature",
            "description_tooltip": null,
            "disabled": false,
            "index": 0,
            "layout": "IPY_MODEL_cf49f91a2929426dbb2a335044c343ad",
            "style": "IPY_MODEL_0ddffb6d6c5b4195a3d77396d0e5d9bc"
          }
        },
        "5a931b9b9ce84c669c31c0a0e023b324": {
          "model_module": "@jupyter-widgets/output",
          "model_name": "OutputModel",
          "model_module_version": "1.0.0",
          "state": {
            "_dom_classes": [],
            "_model_module": "@jupyter-widgets/output",
            "_model_module_version": "1.0.0",
            "_model_name": "OutputModel",
            "_view_count": null,
            "_view_module": "@jupyter-widgets/output",
            "_view_module_version": "1.0.0",
            "_view_name": "OutputView",
            "layout": "IPY_MODEL_705c6e4c519e492bb1d9244f7bc231ad",
            "msg_id": "",
            "outputs": [
              {
                "output_type": "stream",
                "name": "stdout",
                "text": [
                  "Number of unique values in campaign_id column are 1888 \n",
                  " The unique values are [   1    2    3 ... 1886 1887 1888]\n"
                ]
              }
            ]
          }
        },
        "e829dfa8ae164229a375a0c2c0a576a4": {
          "model_module": "@jupyter-widgets/base",
          "model_name": "LayoutModel",
          "model_module_version": "1.2.0",
          "state": {
            "_model_module": "@jupyter-widgets/base",
            "_model_module_version": "1.2.0",
            "_model_name": "LayoutModel",
            "_view_count": null,
            "_view_module": "@jupyter-widgets/base",
            "_view_module_version": "1.2.0",
            "_view_name": "LayoutView",
            "align_content": null,
            "align_items": null,
            "align_self": null,
            "border": null,
            "bottom": null,
            "display": null,
            "flex": null,
            "flex_flow": null,
            "grid_area": null,
            "grid_auto_columns": null,
            "grid_auto_flow": null,
            "grid_auto_rows": null,
            "grid_column": null,
            "grid_gap": null,
            "grid_row": null,
            "grid_template_areas": null,
            "grid_template_columns": null,
            "grid_template_rows": null,
            "height": null,
            "justify_content": null,
            "justify_items": null,
            "left": null,
            "margin": null,
            "max_height": null,
            "max_width": null,
            "min_height": null,
            "min_width": null,
            "object_fit": null,
            "object_position": null,
            "order": null,
            "overflow": null,
            "overflow_x": null,
            "overflow_y": null,
            "padding": null,
            "right": null,
            "top": null,
            "visibility": null,
            "width": null
          }
        },
        "cf49f91a2929426dbb2a335044c343ad": {
          "model_module": "@jupyter-widgets/base",
          "model_name": "LayoutModel",
          "model_module_version": "1.2.0",
          "state": {
            "_model_module": "@jupyter-widgets/base",
            "_model_module_version": "1.2.0",
            "_model_name": "LayoutModel",
            "_view_count": null,
            "_view_module": "@jupyter-widgets/base",
            "_view_module_version": "1.2.0",
            "_view_name": "LayoutView",
            "align_content": null,
            "align_items": null,
            "align_self": null,
            "border": null,
            "bottom": null,
            "display": null,
            "flex": null,
            "flex_flow": null,
            "grid_area": null,
            "grid_auto_columns": null,
            "grid_auto_flow": null,
            "grid_auto_rows": null,
            "grid_column": null,
            "grid_gap": null,
            "grid_row": null,
            "grid_template_areas": null,
            "grid_template_columns": null,
            "grid_template_rows": null,
            "height": null,
            "justify_content": null,
            "justify_items": null,
            "left": null,
            "margin": null,
            "max_height": null,
            "max_width": null,
            "min_height": null,
            "min_width": null,
            "object_fit": null,
            "object_position": null,
            "order": null,
            "overflow": null,
            "overflow_x": null,
            "overflow_y": null,
            "padding": null,
            "right": null,
            "top": null,
            "visibility": null,
            "width": null
          }
        },
        "0ddffb6d6c5b4195a3d77396d0e5d9bc": {
          "model_module": "@jupyter-widgets/controls",
          "model_name": "DescriptionStyleModel",
          "model_module_version": "1.5.0",
          "state": {
            "_model_module": "@jupyter-widgets/controls",
            "_model_module_version": "1.5.0",
            "_model_name": "DescriptionStyleModel",
            "_view_count": null,
            "_view_module": "@jupyter-widgets/base",
            "_view_module_version": "1.2.0",
            "_view_name": "StyleView",
            "description_width": ""
          }
        },
        "705c6e4c519e492bb1d9244f7bc231ad": {
          "model_module": "@jupyter-widgets/base",
          "model_name": "LayoutModel",
          "model_module_version": "1.2.0",
          "state": {
            "_model_module": "@jupyter-widgets/base",
            "_model_module_version": "1.2.0",
            "_model_name": "LayoutModel",
            "_view_count": null,
            "_view_module": "@jupyter-widgets/base",
            "_view_module_version": "1.2.0",
            "_view_name": "LayoutView",
            "align_content": null,
            "align_items": null,
            "align_self": null,
            "border": null,
            "bottom": null,
            "display": null,
            "flex": null,
            "flex_flow": null,
            "grid_area": null,
            "grid_auto_columns": null,
            "grid_auto_flow": null,
            "grid_auto_rows": null,
            "grid_column": null,
            "grid_gap": null,
            "grid_row": null,
            "grid_template_areas": null,
            "grid_template_columns": null,
            "grid_template_rows": null,
            "height": null,
            "justify_content": null,
            "justify_items": null,
            "left": null,
            "margin": null,
            "max_height": null,
            "max_width": null,
            "min_height": null,
            "min_width": null,
            "object_fit": null,
            "object_position": null,
            "order": null,
            "overflow": null,
            "overflow_x": null,
            "overflow_y": null,
            "padding": null,
            "right": null,
            "top": null,
            "visibility": null,
            "width": null
          }
        }
      }
    }
  },
  "cells": [
    {
      "cell_type": "code",
      "execution_count": null,
      "metadata": {
        "id": "dTxl-IpmH-zh"
      },
      "outputs": [],
      "source": [
        "# Basic Libraries\n",
        "import os\n",
        "import pandas as pd\n",
        "import numpy as np\n",
        "\n",
        "# Libraries for Preprocessing\n",
        "from sklearn import preprocessing\n",
        "from sklearn.impute import KNNImputer\n",
        "from sklearn.preprocessing import StandardScaler\n",
        "from sklearn.preprocessing import MinMaxScaler\n",
        "\n",
        "# Libraries for Model-Building\n",
        "from sklearn.model_selection import train_test_split\n",
        "from sklearn.ensemble import RandomForestClassifier\n",
        "from sklearn.tree import DecisionTreeRegressor\n",
        "from sklearn.ensemble import RandomForestRegressor\n",
        "from sklearn.ensemble import GradientBoostingClassifier\n",
        "from sklearn.ensemble import GradientBoostingRegressor\n",
        "from xgboost import XGBClassifier\n",
        "from xgboost import XGBRegressor\n",
        "from sklearn.ensemble import AdaBoostClassifier\n",
        "from sklearn.ensemble import AdaBoostRegressor\n",
        "from sklearn.model_selection import GridSearchCV\n",
        "from sklearn.linear_model import LinearRegression\n",
        "from sklearn.linear_model import Ridge\n",
        "from sklearn.linear_model import Lasso\n",
        "from sklearn.svm import SVR\n",
        "from sklearn.feature_selection import RFE\n",
        "from sklearn.neighbors import KNeighborsRegressor\n",
        "from sklearn.naive_bayes import GaussianNB\n",
        "# Evaluation Metrics\n",
        "from sklearn.metrics import confusion_matrix\n",
        "from sklearn.metrics import accuracy_score\n",
        "from sklearn.metrics import recall_score\n",
        "from sklearn.metrics import precision_score\n",
        "from sklearn.metrics import classification_report\n",
        "from sklearn.metrics import f1_score\n",
        "from sklearn.metrics import r2_score\n",
        "import warnings\n",
        "warnings.filterwarnings('always')\n",
        "warnings.filterwarnings('ignore')"
      ]
    },
    {
      "cell_type": "code",
      "source": [
        "data=pd.read_csv('train_F3fUq2S.csv')\n",
        "\n",
        "data.head()\n",
        "cat=['sender','day_of_week','times_of_day','category','product','target_audience']\n",
        "data[cat]=data[cat].astype('str')\n",
        "data.dtypes\n",
        "data.head()"
      ],
      "metadata": {
        "colab": {
          "base_uri": "https://localhost:8080/",
          "height": 299
        },
        "id": "m39Rd62uIP8C",
        "outputId": "bdeed27f-af34-41b8-f2dc-c8d85e45e9e4"
      },
      "execution_count": null,
      "outputs": [
        {
          "output_type": "execute_result",
          "data": {
            "text/plain": [
              "   campaign_id sender  subject_len  body_len  mean_paragraph_len day_of_week  \\\n",
              "0            1      3           76     10439                  39           5   \n",
              "1            2      3           54      2570                 256           5   \n",
              "2            3      3           59     12801                  16           5   \n",
              "3            4      3           74     11037                  30           4   \n",
              "4            5      3           80     10011                  27           5   \n",
              "\n",
              "   is_weekend times_of_day category product  ...  is_image  is_personalised  \\\n",
              "0           1         Noon        6      26  ...         0                0   \n",
              "1           1      Morning        2      11  ...         0                0   \n",
              "2           1         Noon        2      11  ...         1                0   \n",
              "3           0      Evening       15       9  ...         0                0   \n",
              "4           1         Noon        6      26  ...         0                0   \n",
              "\n",
              "   is_quote  is_timer  is_emoticons  is_discount  is_price  is_urgency  \\\n",
              "0         0         0             0            0         0           0   \n",
              "1         0         0             0            0         0           0   \n",
              "2         1         0             0            0         0           0   \n",
              "3         0         0             0            0         0           0   \n",
              "4         1         0             0            0         0           0   \n",
              "\n",
              "   target_audience  click_rate  \n",
              "0               14    0.103079  \n",
              "1               10    0.700000  \n",
              "2               16    0.002769  \n",
              "3               10    0.010868  \n",
              "4               14    0.142826  \n",
              "\n",
              "[5 rows x 22 columns]"
            ],
            "text/html": [
              "\n",
              "  <div id=\"df-816ea1f4-00cf-4d5f-a005-e440324adb1a\">\n",
              "    <div class=\"colab-df-container\">\n",
              "      <div>\n",
              "<style scoped>\n",
              "    .dataframe tbody tr th:only-of-type {\n",
              "        vertical-align: middle;\n",
              "    }\n",
              "\n",
              "    .dataframe tbody tr th {\n",
              "        vertical-align: top;\n",
              "    }\n",
              "\n",
              "    .dataframe thead th {\n",
              "        text-align: right;\n",
              "    }\n",
              "</style>\n",
              "<table border=\"1\" class=\"dataframe\">\n",
              "  <thead>\n",
              "    <tr style=\"text-align: right;\">\n",
              "      <th></th>\n",
              "      <th>campaign_id</th>\n",
              "      <th>sender</th>\n",
              "      <th>subject_len</th>\n",
              "      <th>body_len</th>\n",
              "      <th>mean_paragraph_len</th>\n",
              "      <th>day_of_week</th>\n",
              "      <th>is_weekend</th>\n",
              "      <th>times_of_day</th>\n",
              "      <th>category</th>\n",
              "      <th>product</th>\n",
              "      <th>...</th>\n",
              "      <th>is_image</th>\n",
              "      <th>is_personalised</th>\n",
              "      <th>is_quote</th>\n",
              "      <th>is_timer</th>\n",
              "      <th>is_emoticons</th>\n",
              "      <th>is_discount</th>\n",
              "      <th>is_price</th>\n",
              "      <th>is_urgency</th>\n",
              "      <th>target_audience</th>\n",
              "      <th>click_rate</th>\n",
              "    </tr>\n",
              "  </thead>\n",
              "  <tbody>\n",
              "    <tr>\n",
              "      <th>0</th>\n",
              "      <td>1</td>\n",
              "      <td>3</td>\n",
              "      <td>76</td>\n",
              "      <td>10439</td>\n",
              "      <td>39</td>\n",
              "      <td>5</td>\n",
              "      <td>1</td>\n",
              "      <td>Noon</td>\n",
              "      <td>6</td>\n",
              "      <td>26</td>\n",
              "      <td>...</td>\n",
              "      <td>0</td>\n",
              "      <td>0</td>\n",
              "      <td>0</td>\n",
              "      <td>0</td>\n",
              "      <td>0</td>\n",
              "      <td>0</td>\n",
              "      <td>0</td>\n",
              "      <td>0</td>\n",
              "      <td>14</td>\n",
              "      <td>0.103079</td>\n",
              "    </tr>\n",
              "    <tr>\n",
              "      <th>1</th>\n",
              "      <td>2</td>\n",
              "      <td>3</td>\n",
              "      <td>54</td>\n",
              "      <td>2570</td>\n",
              "      <td>256</td>\n",
              "      <td>5</td>\n",
              "      <td>1</td>\n",
              "      <td>Morning</td>\n",
              "      <td>2</td>\n",
              "      <td>11</td>\n",
              "      <td>...</td>\n",
              "      <td>0</td>\n",
              "      <td>0</td>\n",
              "      <td>0</td>\n",
              "      <td>0</td>\n",
              "      <td>0</td>\n",
              "      <td>0</td>\n",
              "      <td>0</td>\n",
              "      <td>0</td>\n",
              "      <td>10</td>\n",
              "      <td>0.700000</td>\n",
              "    </tr>\n",
              "    <tr>\n",
              "      <th>2</th>\n",
              "      <td>3</td>\n",
              "      <td>3</td>\n",
              "      <td>59</td>\n",
              "      <td>12801</td>\n",
              "      <td>16</td>\n",
              "      <td>5</td>\n",
              "      <td>1</td>\n",
              "      <td>Noon</td>\n",
              "      <td>2</td>\n",
              "      <td>11</td>\n",
              "      <td>...</td>\n",
              "      <td>1</td>\n",
              "      <td>0</td>\n",
              "      <td>1</td>\n",
              "      <td>0</td>\n",
              "      <td>0</td>\n",
              "      <td>0</td>\n",
              "      <td>0</td>\n",
              "      <td>0</td>\n",
              "      <td>16</td>\n",
              "      <td>0.002769</td>\n",
              "    </tr>\n",
              "    <tr>\n",
              "      <th>3</th>\n",
              "      <td>4</td>\n",
              "      <td>3</td>\n",
              "      <td>74</td>\n",
              "      <td>11037</td>\n",
              "      <td>30</td>\n",
              "      <td>4</td>\n",
              "      <td>0</td>\n",
              "      <td>Evening</td>\n",
              "      <td>15</td>\n",
              "      <td>9</td>\n",
              "      <td>...</td>\n",
              "      <td>0</td>\n",
              "      <td>0</td>\n",
              "      <td>0</td>\n",
              "      <td>0</td>\n",
              "      <td>0</td>\n",
              "      <td>0</td>\n",
              "      <td>0</td>\n",
              "      <td>0</td>\n",
              "      <td>10</td>\n",
              "      <td>0.010868</td>\n",
              "    </tr>\n",
              "    <tr>\n",
              "      <th>4</th>\n",
              "      <td>5</td>\n",
              "      <td>3</td>\n",
              "      <td>80</td>\n",
              "      <td>10011</td>\n",
              "      <td>27</td>\n",
              "      <td>5</td>\n",
              "      <td>1</td>\n",
              "      <td>Noon</td>\n",
              "      <td>6</td>\n",
              "      <td>26</td>\n",
              "      <td>...</td>\n",
              "      <td>0</td>\n",
              "      <td>0</td>\n",
              "      <td>1</td>\n",
              "      <td>0</td>\n",
              "      <td>0</td>\n",
              "      <td>0</td>\n",
              "      <td>0</td>\n",
              "      <td>0</td>\n",
              "      <td>14</td>\n",
              "      <td>0.142826</td>\n",
              "    </tr>\n",
              "  </tbody>\n",
              "</table>\n",
              "<p>5 rows × 22 columns</p>\n",
              "</div>\n",
              "      <button class=\"colab-df-convert\" onclick=\"convertToInteractive('df-816ea1f4-00cf-4d5f-a005-e440324adb1a')\"\n",
              "              title=\"Convert this dataframe to an interactive table.\"\n",
              "              style=\"display:none;\">\n",
              "        \n",
              "  <svg xmlns=\"http://www.w3.org/2000/svg\" height=\"24px\"viewBox=\"0 0 24 24\"\n",
              "       width=\"24px\">\n",
              "    <path d=\"M0 0h24v24H0V0z\" fill=\"none\"/>\n",
              "    <path d=\"M18.56 5.44l.94 2.06.94-2.06 2.06-.94-2.06-.94-.94-2.06-.94 2.06-2.06.94zm-11 1L8.5 8.5l.94-2.06 2.06-.94-2.06-.94L8.5 2.5l-.94 2.06-2.06.94zm10 10l.94 2.06.94-2.06 2.06-.94-2.06-.94-.94-2.06-.94 2.06-2.06.94z\"/><path d=\"M17.41 7.96l-1.37-1.37c-.4-.4-.92-.59-1.43-.59-.52 0-1.04.2-1.43.59L10.3 9.45l-7.72 7.72c-.78.78-.78 2.05 0 2.83L4 21.41c.39.39.9.59 1.41.59.51 0 1.02-.2 1.41-.59l7.78-7.78 2.81-2.81c.8-.78.8-2.07 0-2.86zM5.41 20L4 18.59l7.72-7.72 1.47 1.35L5.41 20z\"/>\n",
              "  </svg>\n",
              "      </button>\n",
              "      \n",
              "  <style>\n",
              "    .colab-df-container {\n",
              "      display:flex;\n",
              "      flex-wrap:wrap;\n",
              "      gap: 12px;\n",
              "    }\n",
              "\n",
              "    .colab-df-convert {\n",
              "      background-color: #E8F0FE;\n",
              "      border: none;\n",
              "      border-radius: 50%;\n",
              "      cursor: pointer;\n",
              "      display: none;\n",
              "      fill: #1967D2;\n",
              "      height: 32px;\n",
              "      padding: 0 0 0 0;\n",
              "      width: 32px;\n",
              "    }\n",
              "\n",
              "    .colab-df-convert:hover {\n",
              "      background-color: #E2EBFA;\n",
              "      box-shadow: 0px 1px 2px rgba(60, 64, 67, 0.3), 0px 1px 3px 1px rgba(60, 64, 67, 0.15);\n",
              "      fill: #174EA6;\n",
              "    }\n",
              "\n",
              "    [theme=dark] .colab-df-convert {\n",
              "      background-color: #3B4455;\n",
              "      fill: #D2E3FC;\n",
              "    }\n",
              "\n",
              "    [theme=dark] .colab-df-convert:hover {\n",
              "      background-color: #434B5C;\n",
              "      box-shadow: 0px 1px 3px 1px rgba(0, 0, 0, 0.15);\n",
              "      filter: drop-shadow(0px 1px 2px rgba(0, 0, 0, 0.3));\n",
              "      fill: #FFFFFF;\n",
              "    }\n",
              "  </style>\n",
              "\n",
              "      <script>\n",
              "        const buttonEl =\n",
              "          document.querySelector('#df-816ea1f4-00cf-4d5f-a005-e440324adb1a button.colab-df-convert');\n",
              "        buttonEl.style.display =\n",
              "          google.colab.kernel.accessAllowed ? 'block' : 'none';\n",
              "\n",
              "        async function convertToInteractive(key) {\n",
              "          const element = document.querySelector('#df-816ea1f4-00cf-4d5f-a005-e440324adb1a');\n",
              "          const dataTable =\n",
              "            await google.colab.kernel.invokeFunction('convertToInteractive',\n",
              "                                                     [key], {});\n",
              "          if (!dataTable) return;\n",
              "\n",
              "          const docLinkHtml = 'Like what you see? Visit the ' +\n",
              "            '<a target=\"_blank\" href=https://colab.research.google.com/notebooks/data_table.ipynb>data table notebook</a>'\n",
              "            + ' to learn more about interactive tables.';\n",
              "          element.innerHTML = '';\n",
              "          dataTable['output_type'] = 'display_data';\n",
              "          await google.colab.output.renderOutput(dataTable, element);\n",
              "          const docLink = document.createElement('div');\n",
              "          docLink.innerHTML = docLinkHtml;\n",
              "          element.appendChild(docLink);\n",
              "        }\n",
              "      </script>\n",
              "    </div>\n",
              "  </div>\n",
              "  "
            ]
          },
          "metadata": {},
          "execution_count": 2
        }
      ]
    },
    {
      "cell_type": "code",
      "source": [
        "from ipywidgets import interact, interactive, fixed, interact_manual\n",
        "import ipywidgets as widgets\n",
        "\n",
        "\n",
        "@interact(feature=data.columns.to_list())\n",
        "def describe_features(feature):\n",
        "    print (\"Number of unique values in {} column are {} \\n The unique values are {}\".format(feature, len(data[feature].unique()),data[feature].unique()))"
      ],
      "metadata": {
        "colab": {
          "base_uri": "https://localhost:8080/",
          "height": 86,
          "referenced_widgets": [
            "c5dbb72214a748f7839cc4164fbb897d",
            "3e557c9d50104ab2b3bade065e0eb023",
            "5a931b9b9ce84c669c31c0a0e023b324",
            "e829dfa8ae164229a375a0c2c0a576a4",
            "cf49f91a2929426dbb2a335044c343ad",
            "0ddffb6d6c5b4195a3d77396d0e5d9bc",
            "705c6e4c519e492bb1d9244f7bc231ad"
          ]
        },
        "id": "9SerjIC3ITsH",
        "outputId": "f58f6ea1-e64e-48d9-ce73-8408fc21b5aa"
      },
      "execution_count": null,
      "outputs": [
        {
          "output_type": "display_data",
          "data": {
            "text/plain": [
              "interactive(children=(Dropdown(description='feature', options=('campaign_id', 'sender', 'subject_len', 'body_l…"
            ],
            "application/vnd.jupyter.widget-view+json": {
              "version_major": 2,
              "version_minor": 0,
              "model_id": "c5dbb72214a748f7839cc4164fbb897d"
            }
          },
          "metadata": {}
        }
      ]
    },
    {
      "cell_type": "code",
      "source": [
        "def cap_outliers(series, iqr_threshold=1.5, verbose=False):\n",
        "    '''Caps outliers to closest existing value within threshold (IQR).\n",
        "    Args: Series, iqr threshold, verbose\n",
        "    Return: Capped series'''\n",
        "    Q1 = series.quantile(0.25)\n",
        "    Q3 = series.quantile(0.75)\n",
        "    IQR = Q3 - Q1\n",
        "\n",
        "    lbound = Q1 - iqr_threshold * IQR\n",
        "    ubound = Q3 + iqr_threshold * IQR\n",
        "\n",
        "    outliers = (series < lbound) | (series > ubound)\n",
        "\n",
        "    series = series.copy()\n",
        "    series.loc[series < lbound] = series.loc[~outliers].min()\n",
        "    series.loc[series > ubound] = series.loc[~outliers].max()\n",
        "\n",
        "    # For comparison purposes.\n",
        "    if verbose:\n",
        "            print('\\n'.join(\n",
        "                ['Capping outliers by the IQR method:',\n",
        "                 f'   IQR threshold: {iqr_threshold}',\n",
        "                 f'   Lower bound: {lbound}',\n",
        "                 f'   Upper bound: {ubound}\\n']))\n",
        "    return series"
      ],
      "metadata": {
        "id": "Zuop8YZwIe2o"
      },
      "execution_count": null,
      "outputs": []
    },
    {
      "cell_type": "code",
      "source": [
        "data['subject_len'] = cap_outliers(data['subject_len'],iqr_threshold=1.5)\n",
        "data['mean_paragraph_len'] = cap_outliers(data['mean_paragraph_len'],iqr_threshold=1.5)\n",
        "data['body_len'] = cap_outliers(data['body_len'],iqr_threshold=1)"
      ],
      "metadata": {
        "id": "tUwBQjeQIjZ0"
      },
      "execution_count": null,
      "outputs": []
    },
    {
      "cell_type": "code",
      "source": [
        "label_encoder = preprocessing.LabelEncoder()\n",
        "data['times_of_day']=label_encoder.fit_transform(data['times_of_day'])\n"
      ],
      "metadata": {
        "id": "AJs5aQUIImjC"
      },
      "execution_count": null,
      "outputs": []
    },
    {
      "cell_type": "code",
      "source": [
        "y=data[\"click_rate\"]\n",
        "X=data.drop(['click_rate','campaign_id','is_timer'], axis=1)\n",
        "X_train, X_test, y_train, y_test = train_test_split(X, y, test_size=0.20,random_state=123)\n",
        "X_train.head()\n",
        "X_train=X_train.drop(['is_discount','is_price','is_urgency','is_emoticons','sender','is_weekend','is_personalised'],axis=1)\n",
        "X_test=X_test.drop(['is_discount','is_price','is_urgency','is_emoticons','sender','is_weekend','is_personalised'],axis=1)"
      ],
      "metadata": {
        "id": "jijgqVQtIuTI"
      },
      "execution_count": null,
      "outputs": []
    },
    {
      "cell_type": "code",
      "source": [
        "X=X.drop(['is_discount','is_price','is_urgency','is_emoticons','sender','is_weekend','is_personalised'],axis=1)"
      ],
      "metadata": {
        "id": "9ofzxVQleIHM"
      },
      "execution_count": null,
      "outputs": []
    },
    {
      "cell_type": "code",
      "source": [
        "from sklearn.model_selection import cross_val_score,KFold\n",
        "def model_perf(mdl,X_train,X_test,y_train,y_test):\n",
        "    kf=KFold(n_splits=5,random_state=1020,shuffle=True)\n",
        "    ypred_tes=mdl.predict(X_test)\n",
        "    ypred_trn=mdl.predict(X_train)\n",
        "    cv=cross_val_score(mdl,X_train,y_train,cv=kf,scoring='r2')\n",
        "#     print('Training score:',mdl.score(xtrain,ytrain))\n",
        "#     print('Testing score:',mdl.score(xtest,ytest))\n",
        "    print('='*50)\n",
        "    print('Training r2:',r2_score(y_train,ypred_trn))\n",
        "    print('Testing r2:',r2_score(y_test,ypred_tes))\n",
        "    print('='*50)\n",
        "    print('Train RMSE',np.sqrt(mean_squared_error(y_train,ypred_trn)))\n",
        "    print('Test RMSE',np.sqrt(mean_squared_error(y_test,ypred_tes)))\n",
        "    print('='*50)\n",
        "    print('cross-val average:',np.mean(cv))\n",
        "    print('cross-val variance:',np.std(cv)/np.mean(cv))"
      ],
      "metadata": {
        "id": "q4a-TOrII1RK"
      },
      "execution_count": null,
      "outputs": []
    },
    {
      "cell_type": "code",
      "source": [
        "from sklearn.pipeline import Pipeline\n",
        "params = {'n_estimators': 400,\n",
        "          'max_depth':10\n",
        "          }\n",
        "from sklearn.preprocessing import PowerTransformer\n",
        "pipe=Pipeline((\n",
        "('pt',PowerTransformer()),\n",
        " ('lr',RandomForestRegressor(**params)),\n",
        "))\n",
        "pipe.fit(X_train,y_train)\n",
        "from sklearn.metrics import mean_squared_error,r2_score\n",
        "model_perf(pipe,X_train,X_test,y_train,y_test)"
      ],
      "metadata": {
        "colab": {
          "base_uri": "https://localhost:8080/"
        },
        "id": "-4wFDrbEI4v6",
        "outputId": "f7888919-9c08-4373-c6de-2d69edc98efc"
      },
      "execution_count": null,
      "outputs": [
        {
          "output_type": "stream",
          "name": "stdout",
          "text": [
            "==================================================\n",
            "Training r2: 0.8950447956227852\n",
            "Testing r2: 0.639619876559363\n",
            "==================================================\n",
            "Train RMSE 0.026780627224282195\n",
            "Test RMSE 0.054040305162573056\n",
            "==================================================\n",
            "cross-val average: 0.4039565115315501\n",
            "cross-val variance: 0.16727121099819917\n"
          ]
        }
      ]
    },
    {
      "cell_type": "code",
      "source": [
        "test=pd.read_csv('test_Bk2wfZ3.csv')\n",
        "test1=pd.read_csv('test_Bk2wfZ3.csv')\n",
        "test=test.drop(['campaign_id','is_timer'],axis=1)\n",
        "test['subject_len'] = cap_outliers(test['subject_len'],iqr_threshold=1.5)\n",
        "test['mean_paragraph_len'] = cap_outliers(test['mean_paragraph_len'],iqr_threshold=1)\n",
        "test['body_len'] = cap_outliers(test['body_len'],iqr_threshold=1)\n",
        "test['times_of_day']=label_encoder.fit_transform(test['times_of_day'])\n",
        "test[cat]=test[cat].astype('category')\n",
        "test=test.drop(['is_discount','is_price','is_urgency','is_emoticons','sender','is_weekend','is_personalised'],axis=1)\n",
        "print(test.columns)\n",
        "ra=pipe.predict(test)\n",
        "ra1=pipe1.predict(test)\n",
        "r=ra-ra1\n",
        "finalRA=pd.DataFrame([test1['campaign_id'],r])\n",
        "finalRA=finalRA.T\n",
        "finalRA.columns=['campaign_id','click_rate']\n",
        "finalRA.to_csv('subN0.csv')"
      ],
      "metadata": {
        "colab": {
          "base_uri": "https://localhost:8080/"
        },
        "id": "6Btt8MgwdN8u",
        "outputId": "60e1d010-2b6d-465f-ef78-2362cc73f2a6"
      },
      "execution_count": 24,
      "outputs": [
        {
          "output_type": "stream",
          "name": "stdout",
          "text": [
            "Index(['subject_len', 'body_len', 'mean_paragraph_len', 'day_of_week',\n",
            "       'times_of_day', 'category', 'product', 'no_of_CTA', 'mean_CTA_len',\n",
            "       'is_image', 'is_quote', 'target_audience'],\n",
            "      dtype='object')\n"
          ]
        }
      ]
    },
    {
      "cell_type": "code",
      "source": [
        "from sklearn.neighbors import KNeighborsRegressor\n",
        "pipe=Pipeline((\n",
        "('pt',PowerTransformer()),\n",
        " ('lr',KNeighborsRegressor(n_neighbors=2)),\n",
        "))\n",
        "pipe.fit(X_train,y_train)\n",
        "from sklearn.metrics import mean_squared_error,r2_score\n",
        "model_perf(pipe,X_train,X_test,y_train,y_test)"
      ],
      "metadata": {
        "colab": {
          "base_uri": "https://localhost:8080/"
        },
        "id": "RwbLCp7pJBmJ",
        "outputId": "1701007d-a51f-4048-dc4f-c5af0290a437"
      },
      "execution_count": null,
      "outputs": [
        {
          "output_type": "stream",
          "name": "stdout",
          "text": [
            "==================================================\n",
            "Training r2: 0.7850304677885388\n",
            "Testing r2: 0.5068121152381295\n",
            "==================================================\n",
            "Train RMSE 0.03832721039093799\n",
            "Test RMSE 0.06321841130564088\n",
            "==================================================\n",
            "cross-val average: 0.12337449219963421\n",
            "cross-val variance: 1.504677437657658\n"
          ]
        }
      ]
    },
    {
      "cell_type": "code",
      "source": [
        "from sklearn.svm import SVR\n",
        "pipe=Pipeline((\n",
        "('pt',PowerTransformer()),\n",
        " ('lr',SVR())\n",
        "))\n",
        "pipe.fit(X_train,y_train)\n",
        "from sklearn.metrics import mean_squared_error,r2_score\n",
        "model_perf(pipe,X_train,X_test,y_train,y_test)"
      ],
      "metadata": {
        "colab": {
          "base_uri": "https://localhost:8080/"
        },
        "id": "wHhTSQlmKr5j",
        "outputId": "148047c5-3545-4963-ab7c-2787b834b0bd"
      },
      "execution_count": null,
      "outputs": [
        {
          "output_type": "stream",
          "name": "stdout",
          "text": [
            "==================================================\n",
            "Training r2: 0.38638969568427517\n",
            "Testing r2: 0.3208245509576454\n",
            "==================================================\n",
            "Train RMSE 0.06475377278597597\n",
            "Test RMSE 0.07418709530847176\n",
            "==================================================\n",
            "cross-val average: 0.019602493850333212\n",
            "cross-val variance: 12.13851873410718\n"
          ]
        }
      ]
    },
    {
      "cell_type": "code",
      "source": [
        "import xgboost as xgb\n",
        "pipe=Pipeline((\n",
        "('pt',PowerTransformer()),\n",
        " ('lr',xgb.XGBRegressor(max_depth=4))\n",
        "))\n",
        "pipe.fit(X_train,y_train)\n",
        "from sklearn.metrics import mean_squared_error,r2_score\n",
        "model_perf(pipe,X_train,X_test,y_train,y_test)"
      ],
      "metadata": {
        "colab": {
          "base_uri": "https://localhost:8080/"
        },
        "id": "y96yhhtuLq2j",
        "outputId": "2287ce39-f5bb-46da-b237-d34d052a0a78"
      },
      "execution_count": null,
      "outputs": [
        {
          "output_type": "stream",
          "name": "stdout",
          "text": [
            "[13:07:16] WARNING: /workspace/src/objective/regression_obj.cu:152: reg:linear is now deprecated in favor of reg:squarederror.\n",
            "[13:07:16] WARNING: /workspace/src/objective/regression_obj.cu:152: reg:linear is now deprecated in favor of reg:squarederror.\n",
            "[13:07:17] WARNING: /workspace/src/objective/regression_obj.cu:152: reg:linear is now deprecated in favor of reg:squarederror.\n",
            "[13:07:17] WARNING: /workspace/src/objective/regression_obj.cu:152: reg:linear is now deprecated in favor of reg:squarederror.\n",
            "[13:07:17] WARNING: /workspace/src/objective/regression_obj.cu:152: reg:linear is now deprecated in favor of reg:squarederror.\n",
            "[13:07:18] WARNING: /workspace/src/objective/regression_obj.cu:152: reg:linear is now deprecated in favor of reg:squarederror.\n",
            "==================================================\n",
            "Training r2: 0.8152749617603294\n",
            "Testing r2: 0.5466707913113026\n",
            "==================================================\n",
            "Train RMSE 0.035528889850271556\n",
            "Test RMSE 0.060609992329484476\n",
            "==================================================\n",
            "cross-val average: 0.3716411042986544\n",
            "cross-val variance: 0.21433670947093672\n"
          ]
        }
      ]
    },
    {
      "cell_type": "code",
      "source": [
        "ypred=pipe.predict(X)"
      ],
      "metadata": {
        "id": "D46qRIiNTCJM"
      },
      "execution_count": 12,
      "outputs": []
    },
    {
      "cell_type": "code",
      "source": [
        "X['initialest']=ypred"
      ],
      "metadata": {
        "id": "54xrwFTwNZ_5"
      },
      "execution_count": 13,
      "outputs": []
    },
    {
      "cell_type": "code",
      "source": [
        "X['error']=y-X['initialest']"
      ],
      "metadata": {
        "id": "JoZX8cvLSO0j"
      },
      "execution_count": 14,
      "outputs": []
    },
    {
      "cell_type": "code",
      "source": [
        "\n",
        "Xt=X.drop(['initialest','error'],axis=1)\n",
        "yt=X['error'].values"
      ],
      "metadata": {
        "id": "TODhoFRdPtW6"
      },
      "execution_count": 22,
      "outputs": []
    },
    {
      "cell_type": "code",
      "source": [
        "from sklearn.pipeline import Pipeline\n",
        "params = {'n_estimators': 500,\n",
        "          'max_depth':12\n",
        "          }\n",
        "from sklearn.preprocessing import PowerTransformer\n",
        "pipe1=Pipeline((\n",
        "('pt',PowerTransformer()),\n",
        " ('lr',RandomForestRegressor()),\n",
        "))\n",
        "pipe1.fit(Xt,yt)\n",
        "\n",
        "\n"
      ],
      "metadata": {
        "id": "KtPA2OIXQkMr",
        "colab": {
          "base_uri": "https://localhost:8080/"
        },
        "outputId": "347b286d-552d-48bb-a995-ca74f4eb2bd4"
      },
      "execution_count": 23,
      "outputs": [
        {
          "output_type": "execute_result",
          "data": {
            "text/plain": [
              "Pipeline(steps=[('pt', PowerTransformer()), ('lr', RandomForestRegressor())])"
            ]
          },
          "metadata": {},
          "execution_count": 23
        }
      ]
    },
    {
      "cell_type": "code",
      "source": [
        ""
      ],
      "metadata": {
        "id": "LIa0Q3rvhLpF"
      },
      "execution_count": null,
      "outputs": []
    },
    {
      "cell_type": "code",
      "source": [
        "clf1 = LinearRegression()\n",
        "clf2= DecisionTreeRegressor()\n",
        "clf3=  RandomForestRegressor()\n",
        "#clf4 = KNeighborsRegressor(n_neighbors=5) \n",
        "#clf5= GaussianNB()\n",
        "clf4=XGBRegressor()\n",
        "clf5=GradientBoostingRegressor()\n",
        "clf6=AdaBoostRegressor()"
      ],
      "metadata": {
        "id": "_TEMgmnKVaLD"
      },
      "execution_count": null,
      "outputs": []
    },
    {
      "cell_type": "code",
      "source": [
        "for i,j in zip([clf1,clf2,clf3,clf4,clf5,clf6],['LR','DT','RF','XGB','GBD','ADB']):\n",
        "    kf=KFold(n_splits=10,random_state=1020,shuffle=True)\n",
        "    score = cross_val_score(i, X_train, y_train, cv=kf, scoring='r2')\n",
        "    print(j,np.mean(score),np.std(score)/np.mean(score))"
      ],
      "metadata": {
        "id": "vrZT56rVwJC3",
        "colab": {
          "base_uri": "https://localhost:8080/"
        },
        "outputId": "19009c11-ac09-432d-808b-7fb53ea1b710"
      },
      "execution_count": null,
      "outputs": [
        {
          "output_type": "stream",
          "name": "stdout",
          "text": [
            "LR 0.12354732473781183 0.5033697986281659\n",
            "DT -0.339530737869573 -1.3857751589208422\n",
            "RF 0.4381091224129497 0.2088149447563122\n",
            "XGB nan nan\n",
            "GBD 0.39026001064336446 0.25547614236476357\n",
            "ADB -0.39518948050694747 -1.2342347713279522\n"
          ]
        }
      ]
    },
    {
      "cell_type": "code",
      "source": [
        "max_depths = range(1,20)\n",
        "\n",
        "train_results = []\n",
        "test_results = []\n",
        "\n",
        "for max_depth in max_depths:\n",
        "    pipe=Pipeline((\n",
        "    ('pt',PowerTransformer()),\n",
        "    ('lr',RandomForestRegressor(max_depth=max_depth)),\n",
        "    ))\n",
        "    pipe.fit(X_train,y_train)\n",
        "\n",
        "    train_pred = pipe.predict(X_train)\n",
        "    r2_score_train=r2_score(y_train,train_pred)\n",
        "    train_results.append(r2_score_train)\n",
        "\n",
        "    test_pred = pipe.predict(X_test)\n",
        "    r2_score_test=r2_score(y_test,test_pred)\n",
        "    test_results.append(r2_score_test)\n",
        "    \n",
        "import matplotlib.pyplot as plt\n",
        "from matplotlib.legend_handler import HandlerLine2D\n",
        "line1, = plt.plot(max_depths, train_results,'b', label='Train r2score')\n",
        "line2, = plt.plot(max_depths, test_results,'r', label='Test r2score')\n",
        "plt.legend(handler_map={line1: HandlerLine2D(numpoints=2)})\n",
        "plt.ylabel('r2_score')\n",
        "plt.xlabel('Tree depth')\n",
        "plt.show()\n"
      ],
      "metadata": {
        "colab": {
          "base_uri": "https://localhost:8080/",
          "height": 279
        },
        "id": "3m7hoAKNx-jK",
        "outputId": "df1099f6-2273-48b7-cf39-86a15110e5fc"
      },
      "execution_count": null,
      "outputs": [
        {
          "output_type": "display_data",
          "data": {
            "text/plain": [
              "<Figure size 432x288 with 1 Axes>"
            ],
            "image/png": "[encoded data removed]"
          },
          "metadata": {
            "needs_background": "light"
          }
        }
      ]
    },
    {
      "cell_type": "code",
      "source": [
        "n = [100,200,300,400,500,600,700,800,900,1000]\n",
        "\n",
        "train_results = []\n",
        "test_results = []\n",
        "\n",
        "for i in n:\n",
        "    pipe=Pipeline((\n",
        "    ('pt',PowerTransformer()),\n",
        "    ('lr',RandomForestRegressor(n_estimators=i)),\n",
        "    ))\n",
        "    pipe.fit(X_train,y_train)\n",
        "\n",
        "    train_pred = pipe.predict(X_train)\n",
        "    r2_score_train=r2_score(y_train,train_pred)\n",
        "    train_results.append(r2_score_train)\n",
        "\n",
        "    test_pred = pipe.predict(X_test)\n",
        "    r2_score_test=r2_score(y_test,test_pred)\n",
        "    test_results.append(r2_score_test)\n",
        "    \n",
        "import matplotlib.pyplot as plt\n",
        "from matplotlib.legend_handler import HandlerLine2D\n",
        "line1, = plt.plot(n, train_results,'b', label='Train r2score')\n",
        "line2, = plt.plot(n, test_results,'r', label='Test r2score')\n",
        "plt.legend(handler_map={line1: HandlerLine2D(numpoints=2)})\n",
        "plt.ylabel('r2_score')\n",
        "plt.xlabel('Tree depth')\n",
        "plt.show()"
      ],
      "metadata": {
        "id": "hKAT2afwzjOD",
        "colab": {
          "base_uri": "https://localhost:8080/",
          "height": 279
        },
        "outputId": "45ace0a3-9013-4040-9e6b-2ce549632afe"
      },
      "execution_count": null,
      "outputs": [
        {
          "output_type": "display_data",
          "data": {
            "text/plain": [
              "<Figure size 432x288 with 1 Axes>"
            ],
            "image/png": "[encoded data removed]"
          },
          "metadata": {
            "needs_background": "light"
          }
        }
      ]
    },
    {
      "cell_type": "code",
      "source": [
        "max_depths = range(1,20)\n",
        "import xgboost as xgb\n",
        "train_results = []\n",
        "test_results = []\n",
        "\n",
        "for max_depth in max_depths:\n",
        "    pipe=Pipeline((\n",
        "    ('pt',PowerTransformer()),\n",
        "    ('lr',xgb.XGBRegressor(max_depth=max_depth)),\n",
        "    ))\n",
        "    pipe.fit(X_train,y_train)\n",
        "\n",
        "    train_pred = pipe.predict(X_train)\n",
        "    r2_score_train=r2_score(y_train,train_pred)\n",
        "    train_results.append(r2_score_train)\n",
        "\n",
        "    test_pred = pipe.predict(X_test)\n",
        "    r2_score_test=r2_score(y_test,test_pred)\n",
        "    test_results.append(r2_score_test)\n",
        "    \n",
        "import matplotlib.pyplot as plt\n",
        "from matplotlib.legend_handler import HandlerLine2D\n",
        "line1, = plt.plot(max_depths, train_results,'b', label='Train r2score')\n",
        "line2, = plt.plot(max_depths, test_results,'r', label='Test r2score')\n",
        "plt.legend(handler_map={line1: HandlerLine2D(numpoints=2)})\n",
        "plt.ylabel('r2_score')\n",
        "plt.xlabel('Tree depth')\n",
        "plt.show()"
      ],
      "metadata": {
        "colab": {
          "base_uri": "https://localhost:8080/",
          "height": 630
        },
        "id": "RgVF1wjMIB3s",
        "outputId": "10d8b556-d757-4809-c19a-b8d7a2442dcc"
      },
      "execution_count": null,
      "outputs": [
        {
          "output_type": "stream",
          "name": "stdout",
          "text": [
            "[13:04:56] WARNING: /workspace/src/objective/regression_obj.cu:152: reg:linear is now deprecated in favor of reg:squarederror.\n",
            "[13:04:56] WARNING: /workspace/src/objective/regression_obj.cu:152: reg:linear is now deprecated in favor of reg:squarederror.\n",
            "[13:04:57] WARNING: /workspace/src/objective/regression_obj.cu:152: reg:linear is now deprecated in favor of reg:squarederror.\n",
            "[13:04:57] WARNING: /workspace/src/objective/regression_obj.cu:152: reg:linear is now deprecated in favor of reg:squarederror.\n",
            "[13:04:57] WARNING: /workspace/src/objective/regression_obj.cu:152: reg:linear is now deprecated in favor of reg:squarederror.\n",
            "[13:04:57] WARNING: /workspace/src/objective/regression_obj.cu:152: reg:linear is now deprecated in favor of reg:squarederror.\n",
            "[13:04:58] WARNING: /workspace/src/objective/regression_obj.cu:152: reg:linear is now deprecated in favor of reg:squarederror.\n",
            "[13:04:58] WARNING: /workspace/src/objective/regression_obj.cu:152: reg:linear is now deprecated in favor of reg:squarederror.\n",
            "[13:04:59] WARNING: /workspace/src/objective/regression_obj.cu:152: reg:linear is now deprecated in favor of reg:squarederror.\n",
            "[13:04:59] WARNING: /workspace/src/objective/regression_obj.cu:152: reg:linear is now deprecated in favor of reg:squarederror.\n",
            "[13:05:00] WARNING: /workspace/src/objective/regression_obj.cu:152: reg:linear is now deprecated in favor of reg:squarederror.\n",
            "[13:05:00] WARNING: /workspace/src/objective/regression_obj.cu:152: reg:linear is now deprecated in favor of reg:squarederror.\n",
            "[13:05:01] WARNING: /workspace/src/objective/regression_obj.cu:152: reg:linear is now deprecated in favor of reg:squarederror.\n",
            "[13:05:01] WARNING: /workspace/src/objective/regression_obj.cu:152: reg:linear is now deprecated in favor of reg:squarederror.\n",
            "[13:05:02] WARNING: /workspace/src/objective/regression_obj.cu:152: reg:linear is now deprecated in favor of reg:squarederror.\n",
            "[13:05:03] WARNING: /workspace/src/objective/regression_obj.cu:152: reg:linear is now deprecated in favor of reg:squarederror.\n",
            "[13:05:04] WARNING: /workspace/src/objective/regression_obj.cu:152: reg:linear is now deprecated in favor of reg:squarederror.\n",
            "[13:05:04] WARNING: /workspace/src/objective/regression_obj.cu:152: reg:linear is now deprecated in favor of reg:squarederror.\n",
            "[13:05:05] WARNING: /workspace/src/objective/regression_obj.cu:152: reg:linear is now deprecated in favor of reg:squarederror.\n"
          ]
        },
        {
          "output_type": "display_data",
          "data": {
            "text/plain": [
              "<Figure size 432x288 with 1 Axes>"
            ],
            "image/png": "[encoded data removed]"
          },
          "metadata": {
            "needs_background": "light"
          }
        }
      ]
    },
    {
      "cell_type": "code",
      "source": [
        ""
      ],
      "metadata": {
        "id": "l7fZ7o5SS6tT"
      },
      "execution_count": null,
      "outputs": []
    }
  ]
}